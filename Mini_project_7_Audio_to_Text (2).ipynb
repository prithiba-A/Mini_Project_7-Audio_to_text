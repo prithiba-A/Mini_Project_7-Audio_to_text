{
  "nbformat": 4,
  "nbformat_minor": 0,
  "metadata": {
    "colab": {
      "provenance": [],
      "authorship_tag": "ABX9TyOW9R4sR9Dhv0ThULlkfALf",
      "include_colab_link": true
    },
    "kernelspec": {
      "name": "python3",
      "display_name": "Python 3"
    },
    "language_info": {
      "name": "python"
    }
  },
  "cells": [
    {
      "cell_type": "markdown",
      "metadata": {
        "id": "view-in-github",
        "colab_type": "text"
      },
      "source": [
        "<a href=\"https://colab.research.google.com/github/prithiba-A/Mini-Projects-Adroid_Connectz/blob/main/Mini_project_7_Audio_to_Text.ipynb\" target=\"_parent\"><img src=\"https://colab.research.google.com/assets/colab-badge.svg\" alt=\"Open In Colab\"/></a>"
      ]
    },
    {
      "cell_type": "markdown",
      "source": [
        "**Mini Project-07: Audio to Text**"
      ],
      "metadata": {
        "id": "ypCZYnbtk2S5"
      }
    },
    {
      "cell_type": "markdown",
      "source": [
        "Importing Libraries"
      ],
      "metadata": {
        "id": "ZNwBX_nWlAl0"
      }
    },
    {
      "cell_type": "code",
      "execution_count": null,
      "metadata": {
        "colab": {
          "base_uri": "https://localhost:8080/"
        },
        "id": "92mEZ7uqjsiU",
        "outputId": "84c9bfda-58ec-468f-9fe0-fed35d3b2fc0"
      },
      "outputs": [
        {
          "output_type": "stream",
          "name": "stdout",
          "text": [
            "Looking in indexes: https://pypi.org/simple, https://us-python.pkg.dev/colab-wheels/public/simple/\n",
            "Collecting SpeechRecognition\n",
            "  Downloading SpeechRecognition-3.10.0-py2.py3-none-any.whl (32.8 MB)\n",
            "\u001b[2K     \u001b[90m━━━━━━━━━━━━━━━━━━━━━━━━━━━━━━━━━━━━━━━━\u001b[0m \u001b[32m32.8/32.8 MB\u001b[0m \u001b[31m43.1 MB/s\u001b[0m eta \u001b[36m0:00:00\u001b[0m\n",
            "\u001b[?25hCollecting pydub\n",
            "  Downloading pydub-0.25.1-py2.py3-none-any.whl (32 kB)\n",
            "Requirement already satisfied: requests>=2.26.0 in /usr/local/lib/python3.10/dist-packages (from SpeechRecognition) (2.27.1)\n",
            "Requirement already satisfied: urllib3<1.27,>=1.21.1 in /usr/local/lib/python3.10/dist-packages (from requests>=2.26.0->SpeechRecognition) (1.26.16)\n",
            "Requirement already satisfied: certifi>=2017.4.17 in /usr/local/lib/python3.10/dist-packages (from requests>=2.26.0->SpeechRecognition) (2023.5.7)\n",
            "Requirement already satisfied: charset-normalizer~=2.0.0 in /usr/local/lib/python3.10/dist-packages (from requests>=2.26.0->SpeechRecognition) (2.0.12)\n",
            "Requirement already satisfied: idna<4,>=2.5 in /usr/local/lib/python3.10/dist-packages (from requests>=2.26.0->SpeechRecognition) (3.4)\n",
            "Installing collected packages: pydub, SpeechRecognition\n",
            "Successfully installed SpeechRecognition-3.10.0 pydub-0.25.1\n"
          ]
        }
      ],
      "source": [
        "pip install SpeechRecognition pydub"
      ]
    },
    {
      "cell_type": "code",
      "source": [
        "import speech_recognition as sr\n",
        "import os\n",
        "import subprocess\n",
        "from google.colab import files\n",
        "from pydub import AudioSegment\n",
        "from pydub.silence import split_on_silence"
      ],
      "metadata": {
        "id": "i5qI2QThj6Ws"
      },
      "execution_count": null,
      "outputs": []
    },
    {
      "cell_type": "markdown",
      "source": [
        "Upload Audio File\n"
      ],
      "metadata": {
        "id": "YAY8hGALlJQu"
      }
    },
    {
      "cell_type": "code",
      "source": [
        "files.upload()"
      ],
      "metadata": {
        "colab": {
          "base_uri": "https://localhost:8080/",
          "height": 73
        },
        "id": "Y9OJWYDckCzx",
        "outputId": "8d8a0099-8b00-43f6-9e08-990ad3705c95"
      },
      "execution_count": null,
      "outputs": [
        {
          "output_type": "display_data",
          "data": {
            "text/plain": [
              "<IPython.core.display.HTML object>"
            ],
            "text/html": [
              "\n",
              "     <input type=\"file\" id=\"files-7896b76c-cd37-4389-ab15-1e5433bbfb30\" name=\"files[]\" multiple disabled\n",
              "        style=\"border:none\" />\n",
              "     <output id=\"result-7896b76c-cd37-4389-ab15-1e5433bbfb30\">\n",
              "      Upload widget is only available when the cell has been executed in the\n",
              "      current browser session. Please rerun this cell to enable.\n",
              "      </output>\n",
              "      <script>// Copyright 2017 Google LLC\n",
              "//\n",
              "// Licensed under the Apache License, Version 2.0 (the \"License\");\n",
              "// you may not use this file except in compliance with the License.\n",
              "// You may obtain a copy of the License at\n",
              "//\n",
              "//      http://www.apache.org/licenses/LICENSE-2.0\n",
              "//\n",
              "// Unless required by applicable law or agreed to in writing, software\n",
              "// distributed under the License is distributed on an \"AS IS\" BASIS,\n",
              "// WITHOUT WARRANTIES OR CONDITIONS OF ANY KIND, either express or implied.\n",
              "// See the License for the specific language governing permissions and\n",
              "// limitations under the License.\n",
              "\n",
              "/**\n",
              " * @fileoverview Helpers for google.colab Python module.\n",
              " */\n",
              "(function(scope) {\n",
              "function span(text, styleAttributes = {}) {\n",
              "  const element = document.createElement('span');\n",
              "  element.textContent = text;\n",
              "  for (const key of Object.keys(styleAttributes)) {\n",
              "    element.style[key] = styleAttributes[key];\n",
              "  }\n",
              "  return element;\n",
              "}\n",
              "\n",
              "// Max number of bytes which will be uploaded at a time.\n",
              "const MAX_PAYLOAD_SIZE = 100 * 1024;\n",
              "\n",
              "function _uploadFiles(inputId, outputId) {\n",
              "  const steps = uploadFilesStep(inputId, outputId);\n",
              "  const outputElement = document.getElementById(outputId);\n",
              "  // Cache steps on the outputElement to make it available for the next call\n",
              "  // to uploadFilesContinue from Python.\n",
              "  outputElement.steps = steps;\n",
              "\n",
              "  return _uploadFilesContinue(outputId);\n",
              "}\n",
              "\n",
              "// This is roughly an async generator (not supported in the browser yet),\n",
              "// where there are multiple asynchronous steps and the Python side is going\n",
              "// to poll for completion of each step.\n",
              "// This uses a Promise to block the python side on completion of each step,\n",
              "// then passes the result of the previous step as the input to the next step.\n",
              "function _uploadFilesContinue(outputId) {\n",
              "  const outputElement = document.getElementById(outputId);\n",
              "  const steps = outputElement.steps;\n",
              "\n",
              "  const next = steps.next(outputElement.lastPromiseValue);\n",
              "  return Promise.resolve(next.value.promise).then((value) => {\n",
              "    // Cache the last promise value to make it available to the next\n",
              "    // step of the generator.\n",
              "    outputElement.lastPromiseValue = value;\n",
              "    return next.value.response;\n",
              "  });\n",
              "}\n",
              "\n",
              "/**\n",
              " * Generator function which is called between each async step of the upload\n",
              " * process.\n",
              " * @param {string} inputId Element ID of the input file picker element.\n",
              " * @param {string} outputId Element ID of the output display.\n",
              " * @return {!Iterable<!Object>} Iterable of next steps.\n",
              " */\n",
              "function* uploadFilesStep(inputId, outputId) {\n",
              "  const inputElement = document.getElementById(inputId);\n",
              "  inputElement.disabled = false;\n",
              "\n",
              "  const outputElement = document.getElementById(outputId);\n",
              "  outputElement.innerHTML = '';\n",
              "\n",
              "  const pickedPromise = new Promise((resolve) => {\n",
              "    inputElement.addEventListener('change', (e) => {\n",
              "      resolve(e.target.files);\n",
              "    });\n",
              "  });\n",
              "\n",
              "  const cancel = document.createElement('button');\n",
              "  inputElement.parentElement.appendChild(cancel);\n",
              "  cancel.textContent = 'Cancel upload';\n",
              "  const cancelPromise = new Promise((resolve) => {\n",
              "    cancel.onclick = () => {\n",
              "      resolve(null);\n",
              "    };\n",
              "  });\n",
              "\n",
              "  // Wait for the user to pick the files.\n",
              "  const files = yield {\n",
              "    promise: Promise.race([pickedPromise, cancelPromise]),\n",
              "    response: {\n",
              "      action: 'starting',\n",
              "    }\n",
              "  };\n",
              "\n",
              "  cancel.remove();\n",
              "\n",
              "  // Disable the input element since further picks are not allowed.\n",
              "  inputElement.disabled = true;\n",
              "\n",
              "  if (!files) {\n",
              "    return {\n",
              "      response: {\n",
              "        action: 'complete',\n",
              "      }\n",
              "    };\n",
              "  }\n",
              "\n",
              "  for (const file of files) {\n",
              "    const li = document.createElement('li');\n",
              "    li.append(span(file.name, {fontWeight: 'bold'}));\n",
              "    li.append(span(\n",
              "        `(${file.type || 'n/a'}) - ${file.size} bytes, ` +\n",
              "        `last modified: ${\n",
              "            file.lastModifiedDate ? file.lastModifiedDate.toLocaleDateString() :\n",
              "                                    'n/a'} - `));\n",
              "    const percent = span('0% done');\n",
              "    li.appendChild(percent);\n",
              "\n",
              "    outputElement.appendChild(li);\n",
              "\n",
              "    const fileDataPromise = new Promise((resolve) => {\n",
              "      const reader = new FileReader();\n",
              "      reader.onload = (e) => {\n",
              "        resolve(e.target.result);\n",
              "      };\n",
              "      reader.readAsArrayBuffer(file);\n",
              "    });\n",
              "    // Wait for the data to be ready.\n",
              "    let fileData = yield {\n",
              "      promise: fileDataPromise,\n",
              "      response: {\n",
              "        action: 'continue',\n",
              "      }\n",
              "    };\n",
              "\n",
              "    // Use a chunked sending to avoid message size limits. See b/62115660.\n",
              "    let position = 0;\n",
              "    do {\n",
              "      const length = Math.min(fileData.byteLength - position, MAX_PAYLOAD_SIZE);\n",
              "      const chunk = new Uint8Array(fileData, position, length);\n",
              "      position += length;\n",
              "\n",
              "      const base64 = btoa(String.fromCharCode.apply(null, chunk));\n",
              "      yield {\n",
              "        response: {\n",
              "          action: 'append',\n",
              "          file: file.name,\n",
              "          data: base64,\n",
              "        },\n",
              "      };\n",
              "\n",
              "      let percentDone = fileData.byteLength === 0 ?\n",
              "          100 :\n",
              "          Math.round((position / fileData.byteLength) * 100);\n",
              "      percent.textContent = `${percentDone}% done`;\n",
              "\n",
              "    } while (position < fileData.byteLength);\n",
              "  }\n",
              "\n",
              "  // All done.\n",
              "  yield {\n",
              "    response: {\n",
              "      action: 'complete',\n",
              "    }\n",
              "  };\n",
              "}\n",
              "\n",
              "scope.google = scope.google || {};\n",
              "scope.google.colab = scope.google.colab || {};\n",
              "scope.google.colab._files = {\n",
              "  _uploadFiles,\n",
              "  _uploadFilesContinue,\n",
              "};\n",
              "})(self);\n",
              "</script> "
            ]
          },
          "metadata": {}
        },
        {
          "output_type": "stream",
          "name": "stdout",
          "text": [
            "Saving Audio_2.mp3 to Audio_2.mp3\n"
          ]
        }
      ]
    },
    {
      "cell_type": "markdown",
      "source": [
        "Convert Mp3 to Wav format"
      ],
      "metadata": {
        "id": "fHmROLvQlOiS"
      }
    },
    {
      "cell_type": "code",
      "source": [
        "# convert mp3 to wav file\n",
        "subprocess.call(['ffmpeg', '-i', 'Audio_2.mp3','wav_file.wav'])"
      ],
      "metadata": {
        "colab": {
          "base_uri": "https://localhost:8080/"
        },
        "id": "p4IcCbvukfj8",
        "outputId": "e7262662-7684-4532-d525-e3c24b128286"
      },
      "execution_count": null,
      "outputs": [
        {
          "output_type": "execute_result",
          "data": {
            "text/plain": [
              "0"
            ]
          },
          "metadata": {},
          "execution_count": 4
        }
      ]
    },
    {
      "cell_type": "markdown",
      "source": [
        "Main Function"
      ],
      "metadata": {
        "id": "kg5N9vwilR5h"
      }
    },
    {
      "cell_type": "code",
      "source": [
        "# initialize the recognizer\n",
        "r = sr.Recognizer()\n",
        "\n",
        "# a function that splits the audio file into chunks\n",
        "# and applies speech recognition\n",
        "\n",
        "def get_large_audio_transcription(path):\n",
        "    \"\"\"\n",
        "    Splitting the large audio file into chunks\n",
        "    and apply speech recognition on each of these chunks\n",
        "    \"\"\"\n",
        "    # open the audio file using pydub\n",
        "    sound = AudioSegment.from_wav(path)\n",
        "    # split audio sound where silence is 700 miliseconds or more and get chunks\n",
        "    chunks = split_on_silence(sound,\n",
        "        # experiment with this value for your target audio file\n",
        "        min_silence_len = 500,\n",
        "        # adjust this per requirement\n",
        "        silence_thresh = sound.dBFS-14,\n",
        "        # keep the silence for 1 second, adjustable as well\n",
        "        keep_silence=500,\n",
        "    )\n",
        "    folder_name = \"audio-chunks\"\n",
        "    # create a directory to store the audio chunks\n",
        "    if not os.path.isdir(folder_name):\n",
        "        os.mkdir(folder_name)\n",
        "    whole_text = \"\"\n",
        "    # process each chunk\n",
        "    for i, audio_chunk in enumerate(chunks, start=1):\n",
        "        # export audio chunk and save it in\n",
        "        # the `folder_name` directory.\n",
        "        chunk_filename = os.path.join(folder_name, f\"chunk{i}.wav\")\n",
        "        audio_chunk.export(chunk_filename, format=\"wav\")\n",
        "        # recognize the chunk\n",
        "        with sr.AudioFile(chunk_filename) as source:\n",
        "            audio_listened = r.record(source)\n",
        "            # try converting it to text\n",
        "            try:\n",
        "                text = r.recognize_google(audio_listened)\n",
        "            except sr.UnknownValueError as e:\n",
        "                print(\"Error:\", str(e))\n",
        "            else:\n",
        "                text = f\"{text.capitalize()}. \"\n",
        "                print(chunk_filename, \":\", text)\n",
        "                whole_text += text\n",
        "    # return the text for all chunks detected\n",
        "    return whole_text"
      ],
      "metadata": {
        "id": "FDGbRxiUkn12"
      },
      "execution_count": null,
      "outputs": []
    },
    {
      "cell_type": "code",
      "source": [
        "path = \"/content/wav_file.wav\"\n",
        "print(\"\\nFull text:\", get_large_audio_transcription(path))"
      ],
      "metadata": {
        "colab": {
          "base_uri": "https://localhost:8080/"
        },
        "id": "QFO2ZB-tkn7W",
        "outputId": "4ccbab6d-1b4b-4d4e-df63-32ccf0db3296"
      },
      "execution_count": null,
      "outputs": [
        {
          "output_type": "stream",
          "name": "stdout",
          "text": [
            "audio-chunks/chunk1.wav : This is a librivox recording all librivox recordings are in the public domain. \n",
            "audio-chunks/chunk2.wav : For more information and to find out how you can volunteer please visit librivox.org. \n",
            "audio-chunks/chunk3.wav : Recorded by chip in tampa florida on january 10th. \n",
            "audio-chunks/chunk4.wav : 2006. \n",
            "audio-chunks/chunk5.wav : Aesop's fables a new translation by vs vernon. \n",
            "audio-chunks/chunk6.wav : What's with an introduction by gk chester. \n",
            "audio-chunks/chunk7.wav : 1912 edition. \n",
            "audio-chunks/chunk8.wav : Introduction. \n",
            "audio-chunks/chunk9.wav : Aesop and bodies in epigram not uncommon in human history. \n",
            "audio-chunks/chunk10.wav : Is fame is all the more deserved because he never deserved it. \n",
            "audio-chunks/chunk11.wav : The firm foundations of common sense the shrew shots at uncommon sense the characterize all his fables. \n",
            "audio-chunks/chunk12.wav : Belong not to him. \n",
            "audio-chunks/chunk13.wav : Lucky humanity. \n",
            "audio-chunks/chunk14.wav : In the earliest human history whatever is authentic is universal. \n",
            "audio-chunks/chunk15.wav : And whatever is universal. \n",
            "audio-chunks/chunk16.wav : Is anonymous. \n",
            "audio-chunks/chunk17.wav : In such cases there is always some central man who had first the trouble of collecting them. \n",
            "audio-chunks/chunk18.wav : And afterwards the theme of creating them. \n",
            "audio-chunks/chunk19.wav : He had the same and on the whole he earned the same. \n",
            "audio-chunks/chunk20.wav : There must be something great in human something of the human future of the human passed in such a man. \n",
            "audio-chunks/chunk21.wav : Even if he only used it to rob the past or deceive the future. \n",
            "audio-chunks/chunk22.wav : The story of arthur may have been really connected with the most fighting christianity of falling rome. \n",
            "audio-chunks/chunk23.wav : War with the most heathen traditions in the hills of whales. \n",
            "audio-chunks/chunk24.wav : But the word map or mallory will always mean king arthur. \n",
            "audio-chunks/chunk25.wav : Even though we find older and better versions than the magician. \n",
            "audio-chunks/chunk26.wav : Or write later and worst versions than the ideals of the king. \n",
            "audio-chunks/chunk27.wav : The nursery fairy tales may have come out of asia with the indo-european race now fortunately extinct. \n",
            "audio-chunks/chunk28.wav : They may have been invented by some fine french lady or gentleman like perot. \n",
            "audio-chunks/chunk29.wav : They may possibly even be what they profess to be. \n",
            "audio-chunks/chunk30.wav : But we shall always call the best selection of such tales. \n",
            "audio-chunks/chunk31.wav : Grimm's tale. \n",
            "audio-chunks/chunk32.wav : Simply because it is the best collection. \n",
            "audio-chunks/chunk33.wav : The historical issa been so far as he was historical would seem to have been a ferguson slave or at least not one to be specially and symbolically adorned with the fergie and cap of liberty. \n",
            "audio-chunks/chunk34.wav : He lives if he did live about the 6th century before christ. \n",
            "audio-chunks/chunk35.wav : In that time of crisis whose story we love and suspect like everything else in herodotus. \n",
            "audio-chunks/chunk36.wav : There are also stories of deformity of feature and the ready rivalry of tongue. \n",
            "audio-chunks/chunk37.wav : Stories which has the celebrated cardinal said explain though they do not excuse. \n",
            "audio-chunks/chunk38.wav : Is having been hurled over a high precipice at delphi. \n",
            "audio-chunks/chunk39.wav : It is for those who read the fables to judge whether he was really thrown over the cliff for being ugly and offensive. \n",
            "audio-chunks/chunk40.wav : Or weather for being highly moral and correct but. \n",
            "audio-chunks/chunk41.wav : There is no kind of. \n",
            "audio-chunks/chunk42.wav : That the general legend of him may just leave rank him with a race to easily forgotten in our modern comparisons the. \n",
            "audio-chunks/chunk43.wav : Of the great philosophic slaves. \n",
            "audio-chunks/chunk44.wav : Aesop may have been a fiction like uncle remus he was also like uncle remus a fact. \n",
            "audio-chunks/chunk45.wav : It is a fact that slaves in the old world could be worshiped like aes. \n",
            "audio-chunks/chunk46.wav : What love like uncle remus. \n",
            "audio-chunks/chunk47.wav : It is odd to note. \n",
            "audio-chunks/chunk48.wav : Both the great slaves told their best stories. \n",
            "audio-chunks/chunk49.wav : About beasts and birds. \n",
            "audio-chunks/chunk50.wav : But whatever is fairly due to aesop the human tradition called fables is not due to him. \n",
            "audio-chunks/chunk51.wav : This has gone on long before any sarcastic freedmen from fergie had or had not been flung off the precipice. \n",
            "audio-chunks/chunk52.wav : This is remained long after. \n",
            "audio-chunks/chunk53.wav : It is 2 hour advantage indeed to realize the distinction because it makes aesop more obviously effective than any other fabulous. \n",
            "audio-chunks/chunk54.wav : Grimm's tales gloria says they are were collected by two german students. \n",
            "audio-chunks/chunk55.wav : And if we find it hard to be certain of a german student at least we know more about him than we know about a freaking slave. \n",
            "audio-chunks/chunk56.wav : The truth is of course the aesop's fables are not a soft spa. \n",
            "audio-chunks/chunk57.wav : Any more than grimm's fairy tales were ever grimms fairy tales. \n",
            "audio-chunks/chunk58.wav : But the fable and the fairy tale are things utterly distinct. \n",
            "audio-chunks/chunk59.wav : There are many elements of difference but the plaintiffs is playing enough. \n",
            "audio-chunks/chunk60.wav : There can be no good fable with human beings in it. \n",
            "audio-chunks/chunk61.wav : There can be no good fairy tail without them. \n",
            "audio-chunks/chunk62.wav : Aesop or barbara's or whatever his name was understood that for a fable all the persons must be impersonal. \n",
            "audio-chunks/chunk63.wav : They must be like abstractions in algebra or like pieces in chess. \n",
            "audio-chunks/chunk64.wav : The lion must always be stronger than the. \n",
            "audio-chunks/chunk65.wav : Just as four is always double of two. \n",
            "audio-chunks/chunk66.wav : The fox and a fable must move crook. \n",
            "audio-chunks/chunk67.wav : As the knight in chess must move crook. \n",
            "audio-chunks/chunk68.wav : The sheep and a fable must march on as the pawn in chest must march on. \n",
            "audio-chunks/chunk69.wav : The fable must not allow for the crooked captures of the pond. \n",
            "audio-chunks/chunk70.wav : It must not allow for what balzac called the revolt of a sheep. \n",
            "audio-chunks/chunk71.wav : The fairy tale on the other hand absolutely revolves on the pivot of human personality. \n",
            "audio-chunks/chunk72.wav : If no hero were there to fight the dragons. \n",
            "audio-chunks/chunk73.wav : We should not even know that there were dragons. \n",
            "audio-chunks/chunk74.wav : If no adventurer were cast on the undiscovered island. \n",
            "audio-chunks/chunk75.wav : It would remain undiscovered. \n",
            "audio-chunks/chunk76.wav : If the millers third son does not find the enchanted garden where the seven princesses stand white and frozen why then. \n",
            "audio-chunks/chunk77.wav : They will remain white and frozen. \n",
            "audio-chunks/chunk78.wav : And enchant. \n",
            "audio-chunks/chunk79.wav : If there is no personal prince to find the sleeping beauty she will simply sleep. \n",
            "audio-chunks/chunk80.wav : Fables repose upon quite the opposite idea that everything is itself. \n",
            "audio-chunks/chunk81.wav : And will in any case speak for itself. \n",
            "audio-chunks/chunk82.wav : The wolf will always be wolf. \n",
            "audio-chunks/chunk83.wav : The fox will always be foxy. \n",
            "audio-chunks/chunk84.wav : Something of the same sort may have been meant by the animal worship in which egyptian and indian and many other great people have combined. \n",
            "audio-chunks/chunk85.wav : Men do not i think love beatles or cats or crocodiles with a holy personal love. \n",
            "audio-chunks/chunk86.wav : They sell them as expressions of that abstract and anonymous energy in nature. \n",
            "audio-chunks/chunk87.wav : Which to anyone is awful and to an atheist may be frightful. \n",
            "audio-chunks/chunk88.wav : So in all the fables that are or are not aesop. \n",
            "audio-chunks/chunk89.wav : All the animal forces drive like inanimate forces. \n",
            "audio-chunks/chunk90.wav : Like great rivers or growing trees. \n",
            "audio-chunks/chunk91.wav : It is the limit and the loss of all such things. \n",
            "audio-chunks/chunk92.wav : That they cannot be anything but themselves. \n",
            "audio-chunks/chunk93.wav : It is their tragedy. \n",
            "audio-chunks/chunk94.wav : That they could not lose their soul. \n",
            "audio-chunks/chunk95.wav : This is the immortal justification of the fable. \n",
            "audio-chunks/chunk96.wav : That we could not teach the plainest truths so simply without turning men into chessman. \n",
            "audio-chunks/chunk97.wav : We cannot talk of such simple things without using animals that do not talk at all. \n",
            "audio-chunks/chunk98.wav : Suppose for a moment that you turn the wolf into a wolfish bar. \n",
            "audio-chunks/chunk99.wav : What the fox into a foxy diplomatist. \n",
            "audio-chunks/chunk100.wav : You will at once remember that even barons are human. \n",
            "audio-chunks/chunk101.wav : You will be unable to forget that even diplomats are men. \n",
            "audio-chunks/chunk102.wav : You will always be looking for that accidental good whom. \n",
            "audio-chunks/chunk103.wav : That should go with the brutality of any brutal man. \n",
            "audio-chunks/chunk104.wav : For that allowance of all delicate things including virtue that should exist in any good diplomatist. \n",
            "audio-chunks/chunk105.wav : Once put a thing on two legs instead of four and pluck it of feathers and you cannot help asking for a human being. \n",
            "audio-chunks/chunk106.wav : Either heroic as in the fairy tales or unho. \n",
            "audio-chunks/chunk107.wav : As in the modern novels. \n",
            "audio-chunks/chunk108.wav : But by using animals in this austere and arbitrary style as they are used on the shields of heraldry or in the hieroglyphics of the ancients. \n",
            "audio-chunks/chunk109.wav : Men have really succeeded in handing down those tremendous truths that are called. \n",
            "audio-chunks/chunk110.wav : Truism. \n",
            "audio-chunks/chunk111.wav : If the chevelle recline be red and rampant it is rigidly red and ramp. \n",
            "audio-chunks/chunk112.wav : If the sacred ibis stands anywhere on one leg it stands on one leg forever. \n",
            "audio-chunks/chunk113.wav : In this language like a large animal alphabet are written some of the first philosophic certainties of men. \n",
            "audio-chunks/chunk114.wav : As the child learns a for us or b for bull or c for cow. \n",
            "audio-chunks/chunk115.wav : Soul man has learned here to connect the simpler and stronger creatures. \n",
            "audio-chunks/chunk116.wav : With the simpler and stronger. \n",
            "audio-chunks/chunk117.wav : That a flowing stream cannot be found its own fountain. \n",
            "audio-chunks/chunk118.wav : And that anyone who says it does is a tyrant and a liar. \n",
            "audio-chunks/chunk119.wav : That a mouse is too weak to fight a lion. \n",
            "audio-chunks/chunk120.wav : But too strong for the chords that can hold a lion. \n",
            "audio-chunks/chunk121.wav : That a fox who gets the most out of a flat dish. \n",
            "audio-chunks/chunk122.wav : May easily get least out of a deep dish. \n",
            "audio-chunks/chunk123.wav : That the crow whom the gods forbid to sing. \n",
            "audio-chunks/chunk124.wav : The gods nevertheless provide with cheese. \n",
            "audio-chunks/chunk125.wav : That when the goat insults from a mountaintop it is not the goat that insults. \n",
            "audio-chunks/chunk126.wav : But the mountain. \n",
            "audio-chunks/chunk127.wav : And all these are deep. \n",
            "audio-chunks/chunk128.wav : Deeply graven on the rocks wherever men have passed. \n",
            "audio-chunks/chunk129.wav : It matters nothing how old they are or how new. \n",
            "audio-chunks/chunk130.wav : They are the alphabet of humanity which like so many forms of primitive picture writing. \n",
            "audio-chunks/chunk131.wav : Employees any living symbol in preference to man. \n",
            "audio-chunks/chunk132.wav : These ancient and universal tales are all of animals as the latest discoveries in the oldest prehistoric caverns are all of animals. \n",
            "audio-chunks/chunk133.wav : Man in his simpler states always felt. \n",
            "audio-chunks/chunk134.wav : He himself was something too mysterious to be drawn. \n",
            "audio-chunks/chunk135.wav : But the legend he carved under the extruder symbols was everywhere the same. \n",
            "audio-chunks/chunk136.wav : Add whether fables began with aesop or began with adam. \n",
            "audio-chunks/chunk137.wav : Whether they are german and medieval as reynard the fox or as french and renaissance is la fontaine. \n",
            "audio-chunks/chunk138.wav : The upshot is everywhere essentially the same. \n",
            "audio-chunks/chunk139.wav : That's superiority is always insolent because it is always accidental. \n",
            "audio-chunks/chunk140.wav : The pride goes before a fall and that there is such a thing as being too clever by half. \n",
            "audio-chunks/chunk141.wav : You will not find any other legend but this written upon the rocks by any hand of man. \n",
            "audio-chunks/chunk142.wav : There is every type and time of fable. \n",
            "audio-chunks/chunk143.wav : But there is only one moral to the table. \n",
            "audio-chunks/chunk144.wav : Because there is only one moral. \n",
            "audio-chunks/chunk145.wav : To everything. \n",
            "audio-chunks/chunk146.wav : Introduction. \n",
            "audio-chunks/chunk147.wav : Buy gk chester. \n",
            "\n",
            "Full text: This is a librivox recording all librivox recordings are in the public domain. For more information and to find out how you can volunteer please visit librivox.org. Recorded by chip in tampa florida on january 10th. 2006. Aesop's fables a new translation by vs vernon. What's with an introduction by gk chester. 1912 edition. Introduction. Aesop and bodies in epigram not uncommon in human history. Is fame is all the more deserved because he never deserved it. The firm foundations of common sense the shrew shots at uncommon sense the characterize all his fables. Belong not to him. Lucky humanity. In the earliest human history whatever is authentic is universal. And whatever is universal. Is anonymous. In such cases there is always some central man who had first the trouble of collecting them. And afterwards the theme of creating them. He had the same and on the whole he earned the same. There must be something great in human something of the human future of the human passed in such a man. Even if he only used it to rob the past or deceive the future. The story of arthur may have been really connected with the most fighting christianity of falling rome. War with the most heathen traditions in the hills of whales. But the word map or mallory will always mean king arthur. Even though we find older and better versions than the magician. Or write later and worst versions than the ideals of the king. The nursery fairy tales may have come out of asia with the indo-european race now fortunately extinct. They may have been invented by some fine french lady or gentleman like perot. They may possibly even be what they profess to be. But we shall always call the best selection of such tales. Grimm's tale. Simply because it is the best collection. The historical issa been so far as he was historical would seem to have been a ferguson slave or at least not one to be specially and symbolically adorned with the fergie and cap of liberty. He lives if he did live about the 6th century before christ. In that time of crisis whose story we love and suspect like everything else in herodotus. There are also stories of deformity of feature and the ready rivalry of tongue. Stories which has the celebrated cardinal said explain though they do not excuse. Is having been hurled over a high precipice at delphi. It is for those who read the fables to judge whether he was really thrown over the cliff for being ugly and offensive. Or weather for being highly moral and correct but. There is no kind of. That the general legend of him may just leave rank him with a race to easily forgotten in our modern comparisons the. Of the great philosophic slaves. Aesop may have been a fiction like uncle remus he was also like uncle remus a fact. It is a fact that slaves in the old world could be worshiped like aes. What love like uncle remus. It is odd to note. Both the great slaves told their best stories. About beasts and birds. But whatever is fairly due to aesop the human tradition called fables is not due to him. This has gone on long before any sarcastic freedmen from fergie had or had not been flung off the precipice. This is remained long after. It is 2 hour advantage indeed to realize the distinction because it makes aesop more obviously effective than any other fabulous. Grimm's tales gloria says they are were collected by two german students. And if we find it hard to be certain of a german student at least we know more about him than we know about a freaking slave. The truth is of course the aesop's fables are not a soft spa. Any more than grimm's fairy tales were ever grimms fairy tales. But the fable and the fairy tale are things utterly distinct. There are many elements of difference but the plaintiffs is playing enough. There can be no good fable with human beings in it. There can be no good fairy tail without them. Aesop or barbara's or whatever his name was understood that for a fable all the persons must be impersonal. They must be like abstractions in algebra or like pieces in chess. The lion must always be stronger than the. Just as four is always double of two. The fox and a fable must move crook. As the knight in chess must move crook. The sheep and a fable must march on as the pawn in chest must march on. The fable must not allow for the crooked captures of the pond. It must not allow for what balzac called the revolt of a sheep. The fairy tale on the other hand absolutely revolves on the pivot of human personality. If no hero were there to fight the dragons. We should not even know that there were dragons. If no adventurer were cast on the undiscovered island. It would remain undiscovered. If the millers third son does not find the enchanted garden where the seven princesses stand white and frozen why then. They will remain white and frozen. And enchant. If there is no personal prince to find the sleeping beauty she will simply sleep. Fables repose upon quite the opposite idea that everything is itself. And will in any case speak for itself. The wolf will always be wolf. The fox will always be foxy. Something of the same sort may have been meant by the animal worship in which egyptian and indian and many other great people have combined. Men do not i think love beatles or cats or crocodiles with a holy personal love. They sell them as expressions of that abstract and anonymous energy in nature. Which to anyone is awful and to an atheist may be frightful. So in all the fables that are or are not aesop. All the animal forces drive like inanimate forces. Like great rivers or growing trees. It is the limit and the loss of all such things. That they cannot be anything but themselves. It is their tragedy. That they could not lose their soul. This is the immortal justification of the fable. That we could not teach the plainest truths so simply without turning men into chessman. We cannot talk of such simple things without using animals that do not talk at all. Suppose for a moment that you turn the wolf into a wolfish bar. What the fox into a foxy diplomatist. You will at once remember that even barons are human. You will be unable to forget that even diplomats are men. You will always be looking for that accidental good whom. That should go with the brutality of any brutal man. For that allowance of all delicate things including virtue that should exist in any good diplomatist. Once put a thing on two legs instead of four and pluck it of feathers and you cannot help asking for a human being. Either heroic as in the fairy tales or unho. As in the modern novels. But by using animals in this austere and arbitrary style as they are used on the shields of heraldry or in the hieroglyphics of the ancients. Men have really succeeded in handing down those tremendous truths that are called. Truism. If the chevelle recline be red and rampant it is rigidly red and ramp. If the sacred ibis stands anywhere on one leg it stands on one leg forever. In this language like a large animal alphabet are written some of the first philosophic certainties of men. As the child learns a for us or b for bull or c for cow. Soul man has learned here to connect the simpler and stronger creatures. With the simpler and stronger. That a flowing stream cannot be found its own fountain. And that anyone who says it does is a tyrant and a liar. That a mouse is too weak to fight a lion. But too strong for the chords that can hold a lion. That a fox who gets the most out of a flat dish. May easily get least out of a deep dish. That the crow whom the gods forbid to sing. The gods nevertheless provide with cheese. That when the goat insults from a mountaintop it is not the goat that insults. But the mountain. And all these are deep. Deeply graven on the rocks wherever men have passed. It matters nothing how old they are or how new. They are the alphabet of humanity which like so many forms of primitive picture writing. Employees any living symbol in preference to man. These ancient and universal tales are all of animals as the latest discoveries in the oldest prehistoric caverns are all of animals. Man in his simpler states always felt. He himself was something too mysterious to be drawn. But the legend he carved under the extruder symbols was everywhere the same. Add whether fables began with aesop or began with adam. Whether they are german and medieval as reynard the fox or as french and renaissance is la fontaine. The upshot is everywhere essentially the same. That's superiority is always insolent because it is always accidental. The pride goes before a fall and that there is such a thing as being too clever by half. You will not find any other legend but this written upon the rocks by any hand of man. There is every type and time of fable. But there is only one moral to the table. Because there is only one moral. To everything. Introduction. Buy gk chester. \n"
          ]
        }
      ]
    }
  ]
}